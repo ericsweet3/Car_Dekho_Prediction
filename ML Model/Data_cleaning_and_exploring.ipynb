{
 "cells": [
  {
   "cell_type": "code",
<<<<<<< HEAD
   "execution_count": 12,
=======
   "execution_count": 2,
>>>>>>> main
   "metadata": {},
   "outputs": [],
   "source": [
    "import pandas as pd\n",
    "import numpy as np\n",
    "import matplotlib.pyplot as plt\n",
    "import seaborn as sns"
   ]
  },
  {
   "cell_type": "code",
<<<<<<< HEAD
   "execution_count": 13,
=======
   "execution_count": 3,
>>>>>>> main
   "metadata": {},
   "outputs": [
    {
     "output_type": "execute_result",
     "data": {
      "text/plain": [
       "        Car_Name  Year  Selling_Price  Present_Price  Kms_Driven Fuel_Type  \\\n",
       "0           ritz  2014           3.35           5.59       27000    Petrol   \n",
       "1            sx4  2013           4.75           9.54       43000    Diesel   \n",
       "2           ciaz  2017           7.25           9.85        6900    Petrol   \n",
       "3        wagon r  2011           2.85           4.15        5200    Petrol   \n",
       "4          swift  2014           4.60           6.87       42450    Diesel   \n",
       "5  vitara brezza  2018           9.25           9.83        2071    Diesel   \n",
       "6           ciaz  2015           6.75           8.12       18796    Petrol   \n",
       "7        s cross  2015           6.50           8.61       33429    Diesel   \n",
       "8           ciaz  2016           8.75           8.89       20273    Diesel   \n",
       "9           ciaz  2015           7.45           8.92       42367    Diesel   \n",
       "\n",
       "  Seller_Type Transmission  Owner  \n",
       "0      Dealer       Manual      0  \n",
       "1      Dealer       Manual      0  \n",
       "2      Dealer       Manual      0  \n",
       "3      Dealer       Manual      0  \n",
       "4      Dealer       Manual      0  \n",
       "5      Dealer       Manual      0  \n",
       "6      Dealer       Manual      0  \n",
       "7      Dealer       Manual      0  \n",
       "8      Dealer       Manual      0  \n",
       "9      Dealer       Manual      0  "
      ],
      "text/html": "<div>\n<style scoped>\n    .dataframe tbody tr th:only-of-type {\n        vertical-align: middle;\n    }\n\n    .dataframe tbody tr th {\n        vertical-align: top;\n    }\n\n    .dataframe thead th {\n        text-align: right;\n    }\n</style>\n<table border=\"1\" class=\"dataframe\">\n  <thead>\n    <tr style=\"text-align: right;\">\n      <th></th>\n      <th>Car_Name</th>\n      <th>Year</th>\n      <th>Selling_Price</th>\n      <th>Present_Price</th>\n      <th>Kms_Driven</th>\n      <th>Fuel_Type</th>\n      <th>Seller_Type</th>\n      <th>Transmission</th>\n      <th>Owner</th>\n    </tr>\n  </thead>\n  <tbody>\n    <tr>\n      <th>0</th>\n      <td>ritz</td>\n      <td>2014</td>\n      <td>3.35</td>\n      <td>5.59</td>\n      <td>27000</td>\n      <td>Petrol</td>\n      <td>Dealer</td>\n      <td>Manual</td>\n      <td>0</td>\n    </tr>\n    <tr>\n      <th>1</th>\n      <td>sx4</td>\n      <td>2013</td>\n      <td>4.75</td>\n      <td>9.54</td>\n      <td>43000</td>\n      <td>Diesel</td>\n      <td>Dealer</td>\n      <td>Manual</td>\n      <td>0</td>\n    </tr>\n    <tr>\n      <th>2</th>\n      <td>ciaz</td>\n      <td>2017</td>\n      <td>7.25</td>\n      <td>9.85</td>\n      <td>6900</td>\n      <td>Petrol</td>\n      <td>Dealer</td>\n      <td>Manual</td>\n      <td>0</td>\n    </tr>\n    <tr>\n      <th>3</th>\n      <td>wagon r</td>\n      <td>2011</td>\n      <td>2.85</td>\n      <td>4.15</td>\n      <td>5200</td>\n      <td>Petrol</td>\n      <td>Dealer</td>\n      <td>Manual</td>\n      <td>0</td>\n    </tr>\n    <tr>\n      <th>4</th>\n      <td>swift</td>\n      <td>2014</td>\n      <td>4.60</td>\n      <td>6.87</td>\n      <td>42450</td>\n      <td>Diesel</td>\n      <td>Dealer</td>\n      <td>Manual</td>\n      <td>0</td>\n    </tr>\n    <tr>\n      <th>5</th>\n      <td>vitara brezza</td>\n      <td>2018</td>\n      <td>9.25</td>\n      <td>9.83</td>\n      <td>2071</td>\n      <td>Diesel</td>\n      <td>Dealer</td>\n      <td>Manual</td>\n      <td>0</td>\n    </tr>\n    <tr>\n      <th>6</th>\n      <td>ciaz</td>\n      <td>2015</td>\n      <td>6.75</td>\n      <td>8.12</td>\n      <td>18796</td>\n      <td>Petrol</td>\n      <td>Dealer</td>\n      <td>Manual</td>\n      <td>0</td>\n    </tr>\n    <tr>\n      <th>7</th>\n      <td>s cross</td>\n      <td>2015</td>\n      <td>6.50</td>\n      <td>8.61</td>\n      <td>33429</td>\n      <td>Diesel</td>\n      <td>Dealer</td>\n      <td>Manual</td>\n      <td>0</td>\n    </tr>\n    <tr>\n      <th>8</th>\n      <td>ciaz</td>\n      <td>2016</td>\n      <td>8.75</td>\n      <td>8.89</td>\n      <td>20273</td>\n      <td>Diesel</td>\n      <td>Dealer</td>\n      <td>Manual</td>\n      <td>0</td>\n    </tr>\n    <tr>\n      <th>9</th>\n      <td>ciaz</td>\n      <td>2015</td>\n      <td>7.45</td>\n      <td>8.92</td>\n      <td>42367</td>\n      <td>Diesel</td>\n      <td>Dealer</td>\n      <td>Manual</td>\n      <td>0</td>\n    </tr>\n  </tbody>\n</table>\n</div>"
     },
     "execution_count": 13,
     "metadata": {},
     "execution_count": 3
    }
   ],
   "source": [
    "car_data_df = pd.read_csv('Resources/car data.csv')\n",
    "\n",
    "car_data_df.head(10)"
   ]
  },
  {
   "cell_type": "code",
<<<<<<< HEAD
   "execution_count": 14,
=======
   "execution_count": 4,
   "metadata": {},
   "outputs": [
    {
     "output_type": "execute_result",
     "data": {
      "text/plain": [
       "Car_Name         301\n",
       "Year             301\n",
       "Selling_Price    301\n",
       "Present_Price    301\n",
       "Kms_Driven       301\n",
       "Fuel_Type        301\n",
       "Seller_Type      301\n",
       "Transmission     301\n",
       "Owner            301\n",
       "dtype: int64"
      ]
     },
     "metadata": {},
     "execution_count": 4
    }
   ],
   "source": [
    "car_data_df.count()"
   ]
  },
  {
   "cell_type": "code",
   "execution_count": 11,
>>>>>>> main
   "metadata": {},
   "outputs": [
    {
     "name": "stdout",
     "output_type": "stream",
     "text": [
      "city                        26\n",
      "corolla altis               16\n",
      "verna                       14\n",
      "fortuner                    11\n",
      "brio                        10\n",
      "                            ..\n",
      "Honda CB Unicorn             1\n",
      "camry                        1\n",
      "Royal Enfield Bullet 350     1\n",
      "Bajaj  ct 100                1\n",
      "TVS Jupyter                  1\n",
      "Name: Car_Name, Length: 98, dtype: int64 \n",
      "\n",
      "\n",
      "\n",
      "2015    61\n",
      "2016    50\n",
      "2014    38\n",
      "2017    35\n",
      "2013    33\n",
      "2012    23\n",
      "2011    19\n",
      "2010    15\n",
      "2008     7\n",
      "2009     6\n",
      "2006     4\n",
      "2005     4\n",
      "2007     2\n",
      "2003     2\n",
      "2018     1\n",
      "2004     1\n",
      "Name: Year, dtype: int64 \n",
      "\n",
      "\n",
      "\n",
      "0.60     8\n",
      "0.45     8\n",
      "5.25     7\n",
      "4.50     7\n",
      "4.75     6\n",
      "        ..\n",
      "19.99    1\n",
      "4.35     1\n",
      "0.80     1\n",
      "0.27     1\n",
      "7.20     1\n",
      "Name: Selling_Price, Length: 156, dtype: int64 \n",
      "\n",
      "\n",
      "\n",
      "9.40     15\n",
      "13.60    13\n",
      "5.70      8\n",
      "4.43      7\n",
      "1.47      7\n",
      "         ..\n",
      "9.29      1\n",
      "92.60     1\n",
      "13.70     1\n",
      "1.17      1\n",
      "0.65      1\n",
      "Name: Present_Price, Length: 147, dtype: int64 \n",
      "\n",
      "\n",
      "\n",
      "15000     9\n",
      "45000     9\n",
      "35000     5\n",
      "25000     5\n",
      "50000     5\n",
      "         ..\n",
      "1000      1\n",
      "500000    1\n",
      "11800     1\n",
      "5400      1\n",
      "4100      1\n",
      "Name: Kms_Driven, Length: 206, dtype: int64 \n",
      "\n",
      "\n",
      "\n",
      "Petrol    239\n",
      "Diesel     60\n",
      "CNG         2\n",
      "Name: Fuel_Type, dtype: int64 \n",
      "\n",
      "\n",
      "\n",
      "Dealer        195\n",
      "Individual    106\n",
      "Name: Seller_Type, dtype: int64 \n",
      "\n",
      "\n",
      "\n",
      "Manual       261\n",
      "Automatic     40\n",
      "Name: Transmission, dtype: int64 \n",
      "\n",
      "\n",
      "\n",
      "0    290\n",
      "1     10\n",
      "3      1\n",
      "Name: Owner, dtype: int64 \n",
      "\n",
      "\n",
      "\n"
     ]
    }
   ],
   "source": [
    "for col in car_data_df:\n",
    "    print(car_data_df[col].value_counts(ascending=False), '\\n\\n\\n')"
   ]
  },
  {
   "cell_type": "code",
   "execution_count": 15,
   "metadata": {},
   "outputs": [
    {
     "name": "stdout",
     "output_type": "stream",
     "text": [
      "<class 'pandas.core.frame.DataFrame'>\n",
      "RangeIndex: 301 entries, 0 to 300\n",
      "Data columns (total 9 columns):\n",
      " #   Column         Non-Null Count  Dtype  \n",
      "---  ------         --------------  -----  \n",
      " 0   Car_Name       301 non-null    object \n",
      " 1   Year           301 non-null    int64  \n",
      " 2   Selling_Price  301 non-null    float64\n",
      " 3   Present_Price  301 non-null    float64\n",
      " 4   Kms_Driven     301 non-null    int64  \n",
      " 5   Fuel_Type      301 non-null    object \n",
      " 6   Seller_Type    301 non-null    object \n",
      " 7   Transmission   301 non-null    object \n",
      " 8   Owner          301 non-null    int64  \n",
      "dtypes: float64(2), int64(3), object(4)\n",
      "memory usage: 21.3+ KB\n"
     ]
    }
   ],
   "source": [
    "car_data_df.info()"
   ]
  },
  {
   "cell_type": "code",
   "execution_count": 16,
   "metadata": {},
   "outputs": [
    {
     "data": {
      "text/html": [
       "<div>\n",
       "<style scoped>\n",
       "    .dataframe tbody tr th:only-of-type {\n",
       "        vertical-align: middle;\n",
       "    }\n",
       "\n",
       "    .dataframe tbody tr th {\n",
       "        vertical-align: top;\n",
       "    }\n",
       "\n",
       "    .dataframe thead th {\n",
       "        text-align: right;\n",
       "    }\n",
       "</style>\n",
       "<table border=\"1\" class=\"dataframe\">\n",
       "  <thead>\n",
       "    <tr style=\"text-align: right;\">\n",
       "      <th></th>\n",
       "      <th>Year</th>\n",
       "      <th>Selling_Price</th>\n",
       "      <th>Present_Price</th>\n",
       "      <th>Kms_Driven</th>\n",
       "      <th>Owner</th>\n",
       "    </tr>\n",
       "  </thead>\n",
       "  <tbody>\n",
       "    <tr>\n",
       "      <th>count</th>\n",
       "      <td>301.000000</td>\n",
       "      <td>301.000000</td>\n",
       "      <td>301.000000</td>\n",
       "      <td>301.000000</td>\n",
       "      <td>301.000000</td>\n",
       "    </tr>\n",
       "    <tr>\n",
       "      <th>mean</th>\n",
       "      <td>2013.627907</td>\n",
       "      <td>4.661296</td>\n",
       "      <td>7.628472</td>\n",
       "      <td>36947.205980</td>\n",
       "      <td>0.043189</td>\n",
       "    </tr>\n",
       "    <tr>\n",
       "      <th>std</th>\n",
       "      <td>2.891554</td>\n",
       "      <td>5.082812</td>\n",
       "      <td>8.644115</td>\n",
       "      <td>38886.883882</td>\n",
       "      <td>0.247915</td>\n",
       "    </tr>\n",
       "    <tr>\n",
       "      <th>min</th>\n",
       "      <td>2003.000000</td>\n",
       "      <td>0.100000</td>\n",
       "      <td>0.320000</td>\n",
       "      <td>500.000000</td>\n",
       "      <td>0.000000</td>\n",
       "    </tr>\n",
       "    <tr>\n",
       "      <th>25%</th>\n",
       "      <td>2012.000000</td>\n",
       "      <td>0.900000</td>\n",
       "      <td>1.200000</td>\n",
       "      <td>15000.000000</td>\n",
       "      <td>0.000000</td>\n",
       "    </tr>\n",
       "    <tr>\n",
       "      <th>50%</th>\n",
       "      <td>2014.000000</td>\n",
       "      <td>3.600000</td>\n",
       "      <td>6.400000</td>\n",
       "      <td>32000.000000</td>\n",
       "      <td>0.000000</td>\n",
       "    </tr>\n",
       "    <tr>\n",
       "      <th>75%</th>\n",
       "      <td>2016.000000</td>\n",
       "      <td>6.000000</td>\n",
       "      <td>9.900000</td>\n",
       "      <td>48767.000000</td>\n",
       "      <td>0.000000</td>\n",
       "    </tr>\n",
       "    <tr>\n",
       "      <th>max</th>\n",
       "      <td>2018.000000</td>\n",
       "      <td>35.000000</td>\n",
       "      <td>92.600000</td>\n",
       "      <td>500000.000000</td>\n",
       "      <td>3.000000</td>\n",
       "    </tr>\n",
       "  </tbody>\n",
       "</table>\n",
       "</div>"
      ],
      "text/plain": [
       "              Year  Selling_Price  Present_Price     Kms_Driven       Owner\n",
       "count   301.000000     301.000000     301.000000     301.000000  301.000000\n",
       "mean   2013.627907       4.661296       7.628472   36947.205980    0.043189\n",
       "std       2.891554       5.082812       8.644115   38886.883882    0.247915\n",
       "min    2003.000000       0.100000       0.320000     500.000000    0.000000\n",
       "25%    2012.000000       0.900000       1.200000   15000.000000    0.000000\n",
       "50%    2014.000000       3.600000       6.400000   32000.000000    0.000000\n",
       "75%    2016.000000       6.000000       9.900000   48767.000000    0.000000\n",
       "max    2018.000000      35.000000      92.600000  500000.000000    3.000000"
      ]
     },
     "execution_count": 16,
     "metadata": {},
     "output_type": "execute_result"
    }
   ],
   "source": [
    "car_data_df.describe()"
   ]
  },
  {
   "cell_type": "code",
   "execution_count": 17,
   "metadata": {},
   "outputs": [
    {
     "data": {
      "image/png": "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\n",
      "text/plain": [
       "<Figure size 1080x720 with 4 Axes>"
      ]
     },
     "metadata": {
      "needs_background": "light"
     },
     "output_type": "display_data"
    }
   ],
   "source": [
    "plt.figure(figsize=(15, 10))\n",
    "plt.subplot(2,2,1)\n",
    "sns.boxplot(x = 'Fuel_Type', y = 'Selling_Price', data = car_data_df)\n",
    "plt.subplot(2,2,2)\n",
    "sns.boxplot(x = 'Seller_Type', y = 'Selling_Price', data = car_data_df)\n",
    "plt.subplot(2,2,3)\n",
    "sns.boxplot(x = 'Transmission', y = 'Selling_Price', data = car_data_df)\n",
    "plt.subplot(2,2,4)\n",
    "sns.boxplot(x = 'Owner', y = 'Selling_Price', data = car_data_df)\n",
    "\n",
    "plt.show()"
   ]
  },
  {
   "cell_type": "code",
   "execution_count": 18,
   "metadata": {},
   "outputs": [
    {
     "data": {
      "text/plain": [
       "<AxesSubplot:xlabel='Kms_Driven', ylabel='Selling_Price'>"
      ]
     },
     "execution_count": 18,
     "metadata": {},
     "output_type": "execute_result"
    },
    {
     "data": {
      "image/png": "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\n",
      "text/plain": [
       "<Figure size 432x288 with 1 Axes>"
      ]
     },
     "metadata": {
      "needs_background": "light"
     },
     "output_type": "display_data"
    }
   ],
   "source": [
    "# selling price vs km driven\n",
    "dat = car_data_df[(car_data_df['Selling_Price']<20_00_000) & (car_data_df['Kms_Driven']<5_00_000)]\n",
    "\n",
    "sns.regplot(data = car_data_df,x='Kms_Driven',y='Selling_Price')"
   ]
  },
  {
   "cell_type": "code",
   "execution_count": 19,
   "metadata": {},
   "outputs": [
    {
     "data": {
      "image/png": "iVBORw0KGgoAAAANSUhEUgAAAW8AAAFuCAYAAABOYJmxAAAAOXRFWHRTb2Z0d2FyZQBNYXRwbG90bGliIHZlcnNpb24zLjMuMiwgaHR0cHM6Ly9tYXRwbG90bGliLm9yZy8vihELAAAACXBIWXMAAAsTAAALEwEAmpwYAAAuvklEQVR4nO3deXxV1b338c8v80AIQ0IIYxAZBBTEgALOlkqtddZaW6+2Vtvr0PnpYGuHq33a26fW9ra9tjhUrUOl1YpTVdTiCEpQkHmQKYEQEiATIeNZzx/nEBJyEpJwTnb2yff9euWVs/fZe59f5OU3K2uvvZY55xAREX+J87oAERHpOoW3iIgPKbxFRHxI4S0i4kMKbxERH0rwuoDOmjdvnnvppZe8LkNEpKdZuJ2+aXmXlZV5XYKISK/hm/AWEZHDFN4iIj6k8BYR8SGFt4iIDym8RUR8SOEtIuJDCm8RER9SeIuI+JDCW0TEhxTeIiI+FNXwNrMUM3vfzFaa2Roz+1lo/0/NbKeZrQh9XRDNOvxoU0kV9y7+mJdWF9MU0GpHItJatCemqgPOdc5Vm1ki8LaZ/Sv03j3OuV9H+fN96Y2Npdzw0DIaQ6F9ybRh/Pbqkz2uSkR6k6i2vF1QdWgzMfSlZuRR3PfmlubgBnhmxS52lR/0sCIR6W2i3udtZvFmtgLYAyxyzr0XeutWM/vIzB40s4HtnHuTmRWYWUFpaWm0S+01XJjfb/qNJyItRT28nXNNzrlpwAhgpplNAe4FxgLTgGLg7nbOne+cy3fO5WdnZ0e71F7jy6cfR3zc4Sl8Lzwpl+EDUj2sSER6G3Ou59p0ZvYT4EDLvm4zywOed85N6ejc/Px8V1BQEOUKe4/1uyt5dW0JeVnpzJs8lIR4DQwS6aPCLsYQ1RuWZpYNNDjnys0sFfgE8N9mluucKw4ddimwOpp1+NHEof2ZOLS/12WISC8V7dEmucDDZhZPsItmgXPueTP7q5lNI9iVuw34SpTrEBGJKVENb+fcR0CbMW7OuWuj+bkiIrFOHakiIj6k8BYR8SGFt4iIDym8RUR8SOEtIuJDCm8RER9SeIuI+JDCW0TEh6L9hKW0sKKwnPvf2kJjk+O62XnMGjvY65JExKcU3j2kaH8NV89fQm1DAIBX15Xw3G2nc0Ku5i8Rka5Tt0kPeXVtSXNwAzQGHP9avdvDikTEzxTePWRYmPm4hw9I8aASEYkFCu8ect4JOZw/Oad5e/bYwVw8bbiHFYmIn6nPu4fExxl/vjafTSVVNAac+rpF5JgovHvYuJwMr0sQkRigbhMRER9SeIuI+JDCW0TEhxTeIiI+pPAWEfEhhbeIiA8pvEVEfEjhLSLiQwpvEREfUniLiPiQwltExIcU3iIiPqTwFhHxIYW3iIgPKbxFRHxI4S0i4kMKbxERH1J4i4j4UFTD28xSzOx9M1tpZmvM7Geh/YPMbJGZbQp9HxjNOkREYk20W951wLnOuanANGCemZ0GfB94zTk3DngttC0iIp0U1fB2QdWhzcTQlwMuBh4O7X8YuCSadYiIxJqo93mbWbyZrQD2AIucc+8BOc65YoDQ9yHtnHuTmRWYWUFpaWm0SxUR8Y2oh7dzrsk5Nw0YAcw0syldOHe+cy7fOZefnZ0dtRpFRPymx0abOOfKgcXAPKDEzHIBQt/39FQdIiKxINqjTbLNbEDodSrwCWA98CxwXeiw64CF0axDRCTWJET5+rnAw2YWT/AXxQLn3PNmtgRYYGY3ADuAK6Nch4hITIlqeDvnPgJODrN/L3BeND9bRCSW6QlLEREfUniLiPiQwltExIcU3iIiPqTwFhHxIYW3iIgPKbxFRHxI4S0i4kMKbxERH1J4i4j4kMJbRMSHFN4iIj6k8BYR8SGFt4iIDym8RUR8SOEtIuJDCm8RER9SeIuI+JDCW0TEhxTeIiI+pPAWEfEhhbeIiA8pvEVEfEjhLSLiQwpvEREfUniLiPiQwltExIcU3iIiPqTwFhHxIYW3iIgPKbxFRHxI4S0i4kMKbxERH4pqeJvZSDP7t5mtM7M1Zvb10P6fmtlOM1sR+rogmnWIiMSahChfvxH4tnPuAzPLAJab2aLQe/c4534d5c8XEYlJUQ1v51wxUBx6XWVm64Dh0fxMEZG+oMf6vM0sDzgZeC+061Yz+8jMHjSzge2cc5OZFZhZQWlpaU+VKiLS6/VIeJtZP+Ap4BvOuUrgXmAsMI1gy/zucOc55+Y75/Kdc/nZ2dk9UaqIiC9EPbzNLJFgcD/mnHsawDlX4pxrcs4FgPuAmdGuQ0QklkR7tIkBDwDrnHO/abE/t8VhlwKro1mHiEisifZokznAtcAqM1sR2nc78DkzmwY4YBvwlSjXISISU6I92uRtwMK89WI0P1dEJNbpCUsRER9SeIuI+JDCW0TEhxTevdTuilo2lVR5XYaI9FLRHm0i3fCz59bw8LvbCDjIHz2Qv3xxBhkpiV6XJSK9iFrevcxHReX85Z1gcAMUbN/PI0u2e1uUiPQ6Cu9eZse+mjb7CsPsE5G+TeHdQwKHmtJAU+h1U4t9h5xxfDYZKa17s+ZNGRrd4kTEd9TnHWWNTQF++twaFhQUkZ6UQGZqAtv21pCcEEddY4AzxmXxm6umkZ2RDEBmWiJP3Hga/7t4MxUHG7h6xijOnjDE459CRHobc65t6683ys/PdwUFBV6X0WV/XbqdO57peOqWS6YN47dXn9xDFYmIz4R7Sl3dJtH24Y79Rz1mRWF59AsRkZii8I6yU8cMOuoxMztxjIhIS+rzjrIrTxnJ1rIanly2g/TkeDJTk/i4tJqEuDiaAgHOnZjDDy+Y5HWZIuIz6vMWEend1OctIhIrFN4iIj6k8BYR8SGFt4iIDym8RUR8SOEtIuJDCm8RER9SeIuI+JDCW0TEhxTeIiI+pPAWEfEhhbeIiA8pvKMsEHBsLKmiuq7R61JEJIZoStgo2rynmi89tIwd+2pIT4rnF5efxEVTh3ldlojEgE63vM0szczuMLP7QtvjzOzC6JXmf7/81/rm1eAP1Dfxo3+uorahyeOqRCQWdKXb5C9AHTArtF0E3BXximLItr0HWm1X1jayv6beo2pEJJZ0JbzHOud+BTQAOOcO0s4k4RJ0/uScVtsnjcgkNzPVo2pEJJZ0pc+73sxSAQdgZmMJtsSlHd/4xHiS4uN5fcMexg/px3fOn+B1SSISIzq9DJqZzQV+BEwCXgHmANc75xZ3cM5I4BFgKBAA5jvnfmdmg4AngTxgG3CVc67DZda1DJqI9FFhezi6tIalmQ0GTgtdbKlzruwox+cCuc65D8wsA1gOXAJcD+xzzv3SzL4PDHTOfa+ja/k9vFfvrOC3r26ktLqeK6YP59pZeV6XJCL+EDa8O91tYmaXAq87514IbQ8ws0ucc8+0d45zrhgoDr2uMrN1wHDgYuDs0GEPA4uBDsPbz6rrGvn8/e9RcbABgJWF5fRPTeTiacM9rkxE/KorNyx/4pyrOLThnCsHftLZk80sDzgZeA/ICQX7oYAf0oU6fGfZ1n3NwX3IK2tLAKhtaOIXL67jM79/mx88/RH7Dmg0iogcXVduWIYL+k6db2b9gKeAbzjnKs06N0jFzG4CbgIYNWpUJ8vsfcZkpWMGLXuoxmalA/Bfz6/l8fd2ALBqZwWF+w7y6JdP9aJMEfGRrrS8C8zsN2Y21syOM7N7CPZhd8jMEgkG92POuadDu0tC/eGH+sX3hDvXOTffOZfvnMvPzs7uQqm9S15WOt/55ASS4oP/uWfmDeKGM44DYFGoBX7I25vLqKnXo/Qi0rGutLxvA+4gOErECI44uaWjEyzYxH4AWOec+02Lt54FrgN+Gfq+sAt1+NIt5xzPF04dTWVtAyMHpTXvHzM4ndKqwyMuczNTSEmI96JEEfGRLo026fLFzU4H3gJWERwqCHA7wX7vBcAoYAdwpXNuX0fX8vtok/as3lnBTY8UsKuilgFpidzz2WmcMyGmbwGISNd0b6igmf3WOfcNM3uO0AM6LTnnLopMfR2L1fAGaGwKsLXsACMHpZGSqFa3iLTS7aGCfw19/3XkapGWEuLjGJeT4XUZIuIjRw1v59xyM4sHbnTOfaEHahIRkaPo1GgT51wTkG1mSVGup0/aXVHLX5du59W1JTQFoncPQkRiR1dGm2wD3jGzZ4HmuU6PGEUiXbR6ZwVX/XkJNfXBeb7Pn5zDn6/N97gqEentujLOexfwfOicjBZfcgzuf2tLc3ADvLymhA27qzysSET8oLNPSJ4MrAHWOOfWRbekvqW+KdB2X2PbfSIiLR215W1mPyb4YM7lwAtmdmPUq+pDrj0tj4S4wyOBZuYN4sQRmR5WJCJ+0Jlx3muAGc65mtCUsC8552b0SHUtxPI477W7KnlxVTFDM1O4fPoIUpM01ltEmnV7nHetc64GwDm318y60k8uQHHFQZIT4hmUHn6wzqRh/Zk0rH8PVyUiftaZ8B4bGmECwd8ALbd77AlLP6ptaOKWxz7gtfV7SIgzvnT6GG6/4ASvyxKRGNCZ8L74iG09adlJTy4r5LX1wQkTGwOO+W9uYd6UoUwfNdDjykTE7zrzhOUbnbmQmT3lnLv82EuKHR+XVrfdt6da4S0ixyyS/dfHRfBaMeETJ+S02k5OiOPM8f6dl1xEeo+uPGF5NHqu+whnjs/mN1dN5dGl20lPTuDWc44np3+K12WJSAyIZHhLGJdNH8Fl00d4XYaIxJhIdpt0bmFKERE5ZpEM7+9F8FoiItKBTnebmNkq2vZrVwAFwF3OuVciWZjfrSuu5Pevb2JvdT1XnDKCK/NHel2SiMSQrvR5/wtoAh4PbV8d+l4JPAR8JnJl+duBukauuW8p+2saAHhv6z7SkxO44MRcjysTkVjRlfCe45yb02J7lZm945ybY2ZaYaeF97bubQ7uQ15avVvhLSIR05U+735mduqhDTObCfQLbTZGtCqfGzUovc2+0YPTPKhERGJVV8L7y8D9ZrbVzLYB9wM3mlk68ItoFOdXxw/px23nHk98aKrXaSMHcMPpYzyuSkRiyVGnhG1zgllm6LzyqFTUDj9OCVtaVUfFwXqOH6IFh0Sk27o9JWzwbLNkggsy5AEJZsHrOef+KwLFxaTsjGSyM5K9LkNEYlBXblguJDg0cDlQF51yRESkM7oS3iOcc/OiVkkfUt8Y4LV1JdQ2NjF30lD6JWuWAhHpmq6kxrtmdqJzblXUqukD6hsDXPGnd/moqAKAYZkbWHjr6epeEZEu6cpok9OB5Wa2wcw+MrNVZvZRtAqLVa+tK2kOboBdFbUsKCj0sCIR8aOutLw/FbUq+pCDDU1t9tWG2Sci0pGjtrzN7NDKuFXtfEkXfHLyUIZlHp7Tu19yApdrylgR6aLOtLwfBy4kOMrE0XrMoUMr6HRJv+QEFt56OgsKCqltaOLy6SPIy2r7RKaISEe6/JCOV/z4kI6ISAR07yEdM5ve0fvOuQ+6W5GIiHRPZ7pN7u7gPQec296bZvYgwS6XPc65KaF9PwVuBEpDh93unHuxU9WKiAjQifB2zp1zDNd/CPgD8MgR++9xzv36GK4b0+obA2wsqSIvK10P8IhIWJ3pNrmso/edc0938N6bZpbXjbr6rFVFFXzp4WWUVtWRnhTP3VdNZd4UzQMuIq11plnX0Qo5Dmg3vDtwq5n9B8El1L7tnNsf7iAzuwm4CWDUqFHd+Jjep3BfDfe8upHCfTV8akouX5yTx6FJvgDufGEtpVXBqWMO1Ddxx8I1zJ00tHl6WRER6Fy3yRcj/Jn3AncSDP47Cfapf6mdz54PzIfgaJMI19HjAgHHfzz4PlvLDgCwbFvwd9aXWsz1XbivptU5pVV11NQ3kpGS2HOFikiv1+nH480sx8weMLN/hbYnmdkNXf1A51yJc67JORcA7gNmdvUafrV+d1VzcB/yl3e2cv49b3LNfUtZvn0f86YMbfX+GeOyFNwi0kZX7oY9BPwF+GFoeyPwJPBAVz7QzHKdc8WhzUuB1V05389yM1NIio+jvinQvK9w/8HgixL46MFlLP7O2fRPSeSdzWVMHtafb84d71G1ItKbdSW8s5xzC8zsBwDOuUYz63BSDjN7AjgbyDKzIuAnwNlmNo1gt8k24CvdqNuXBqYn8cNPn8Cdz6+lMeCIjzOaAod7g6rrGllZVM43545XaItIh7oS3gfMbDDB0MXMTiO4OEO7nHOfC7O7Sy31WHNcdjqNocBuGdwAZjBOS6aJSCd0Jby/BTwLjDWzd4Bs4IqoVBXDXly1O+z+1MR4vv3J8YzSKvMi0gmdGec9Ayh0zn1gZmcR7Oa4HHgFKIpyfTFn5KDUNvse+uIMZuQNIl0P5IhIJ3VmtMmfgfrQ69kEb1j+EdhPaBifdN61p41m+qgBQLCb5D9mjebsCUMU3CLSJZ1JjHjn3L7Q688C851zTwFPmdmKqFUWozJSEnn65jms311JRkoiwwe0bYmLiBxNp8LbzBKcc43AeYSeeOzC+RLGxKH9j36QiEg7OhO+TwBvmFkZcBB4C8DMjucoo01ERCQ6OvN4/M/N7DUgF3jFHV69IQ64LZrFiYhIeJ3q9nDOLQ2zb2PkyxERkc7o9NwmIiLSe+iGYy9R29DES6t3U1nbwLwpQxmSkXL0k0Skz1J49wKNTQE+++clrCwK3v/9zaKNLLxlDqMHa1V5EQlP3Sa9wNuby5qDG6C8poHH3tvhYUUi0tspvD0QCDh2V9QSaGeCKoDGJt+vPSEiUaRukx62orCcWx//gKL9Bxk9OI0/XjOdM8dnMyEngw0lVQCkJ8VzzakjPa5URHozOzxsu3fLz893BQUFXpdxzOb99k3W765q3p46cgALb5lDVW0Dz3y4k8raRi6aOoyRgzS7oIgAEHYBW7W8e5Bzrrl1fciG3ZVAcM6Ta2fleVCViPiR+rx7kJlx1vjsVvvOHj/Eo2pExM8U3j3s7iuncunJwxk9OI0rThnBLy8/0euSRMSH1G3Swwb3S+aez07zugwR8TmFtwcamgL8z2ubWLS2hLHZ/fjevIla/kxEukTh7YH/eW0Tv399MwDrd1exsaSKV755JmZhbyqLiLSh8I6y+sYAS7bsJSMlgemjBgLw2ro9rY7ZtKearz3xIZW1jVx4Ui5X5muMt4h0TOEdRWXVdVz5pyVsLTsAwNxJOcy/9hTGDunH2uLK5uPM4LmPigF4Y2MpgAJcRDqk0SYRtHDFTr715AruXfwxB+ubeHTp9ubgBli0toSlW/Yx94QhZKYkApCSGMeRz0kdCvL3t+7je//4iF/8ax27K2p77OcQkd5PLe8Iuf+tLdz1wrrm7eXb9zNsQNtpXZdsKeMPr2/m0HQmA9OSKKmspeX0JsMHpPD+1n1cPX9J8/7nVxbz2rfPIiUxPpo/hoj4hFreEbKgoLDV9qvrSjhv4hAS4g7fhMzOSGZb2YFWQV1cUcslJw/n0GGjB6dxyznH84/lha2O21l+kHc/LovmjyAiPqKWd4QMSEtqtZ2aGM+MMYP4202nsaCgkN0VtTQFHJv3HGhz7hdnj+H/nD+B3RW1nDRiAPFxxsAjrhfuM0Sk71LLO0K+PXc8qS26NL7xiXGkJSWQnzeI/NGDeHNTGe98vJe1xZWtWuMXTR3GiSMyyc1M5eRRA4kPvffFOWMYPiC1+bhPn5jbPFpFRESzCkbQvgP1vL91L+NyMhib3a95/+fvX8o7m/e2OvbHF05i+uiBTBs5oN3r1TY08e7HZQxIS1Jwi/RdmlUw2galJzFvSm6b/Tn9W9+4jI8zLjwplyH9O16nMiUxnnMn5kS0RhGJDeo26QFfO3ccwzKDQR1nwe2jBbeISEfU8o6CjSVVVBxsYHqoDzsvK53F/+ccPtyxn2EDUrXQgogcM4V3hH17wUqe+qAIgPE5/fjbTbMYlJ5EUkIcpx43uM3x+w/Uk5oUr/HbItIlUe02MbMHzWyPma1usW+QmS0ys02h7zFzJ+6DHfubgxtgY0k1D7+7LeyxB+oa+dJDyzj5zkXk3/Uqf126vYeqFJFYEO0+74eAeUfs+z7wmnNuHPBaaDsm7Kls+wh7SZh9APe9tYXX1wcnqKqua+Snz65hV/nBqNYnIrEjquHtnHsT2HfE7ouBh0OvHwYuiWYNPemMcdlk9Tv8II0ZXDxteNhj1xe3XsuyKeDYeMT6liIi7fGizzvHOVcM4JwrNrN2F3E0s5uAmwBGjRrVQ+V1X3pyAn//6mzmv7mFyoMNXDVjJLPGDqahKcDD727jwx3lzMgbyLWz8jhrQjYvrdndfG5GcgKnjI6ZHiQRibJefcPSOTcfmA/Bh3Q8LqdTxmSl84vLWq9L+eOFq3ni/eDcJy+sKmbb3hoK9x1+TL5/SgJ/+sIpZIRmGhQRORovwrvEzHJDre5cYM9Rz/Ax5xx/Lyhqte9vy3ZQ2xBo3q6sbaRI/d0i0gVePKTzLHBd6PV1wEIPaugxTQFH4IgpCMLNSFBcrvm6RaTzotryNrMngLOBLDMrAn4C/BJYYGY3ADuAK6NZQ0/bU1nLfz76ASuLyklKiOOq/BGtpnaF4IyDdY2HW96J8cYFJw7t4UpFxM+iGt7Ouc+189Z50fxcL93y+Acs37EfgMb6Jh56dzsD0xLZX9PQfEz5wYZW50wcmkFmmvq7RaTzNLdJhC3btr/NvhljBjEptz9x7SwOv2pnJVf9aQkNTYHwB4iIHEHhHWEDw7SgzxyXzYtfP4PhA1PDnBG0bW8N7289cki8iEh4Cu8IS09u2xOVEGfc9EgBSfEd/+ceoK4TEemkXj3O22+e/qCI/QfqW+1LTYzn+0+varXdLzmB0VlpbCmtZt+BYP/3pScPZ/KwzB6tV0T8Sy3vCFm+fT/fWrCSA/VNzfsS4ozxOf1aHXewoYlfXzWV754/kYzkYEv7xOGZ/OCCiT1ar4j4m8I7Qt7aVNpm3/RRA8NOAzskI5mvPfEh2/fVALBqZwV3Pb+u1TG1DU386qX1XPq/7/CThaupqGlocx0R6bvUbRIh6Ult/1Ou2LGfi6blMiQjiT1Vh7tTnlu5i91HzDa4amdFq+07n1/LY+/tAODDHeXs2FfDX744MwqVi4gfqeUdIfWNTW33BRw/emZNqzHeEJwOdvTg1qvpnHZEC/3lFpNWASzeWEptQ9vPEJG+SeEdIWOy+7X7XkOTa7N991VTmTlmEAPSErn05OHcfkSf96gjlkrL7Z9CcoL+uUQkSN0mEXL+5KFceFIuz39UfNRjM1ISOGXUQBZ8ZVa7x/z4M5O58ZECSqvqyEhJ4K5Lp2DWzlM+ItLnmAs3S1IvlJ+f7woKCrwu46gK99XwxsZSfrxwdfOcJmOy0thaVtPquBvPGMOc47OIjzNmj82iuq6RdzeXMWpwWvOQwfrGAJv3VJOXlUZamD51EekTwrbaFN5Rsqmkijc3lbFz/0EefGdrm/fjjOZwH5/Tj+KKWqpqG4FgsP/w05N6slwR6b3Chrc6UaNkXE4G18/O4+kPi8K+33KmwY0l1c3BDfDA21vbXftSRATU5x1xz63cxb2LP6a44iDpyQlUHuz6+OyAg1+/vIFVOyuYMDSD739qIrmZ7c+LIiJ9j8I7ggq27eNrf/uwebGFI4cIAsydlENTwDWvHN+evy8PttjX765i294aFt4yJ+L1ioh/qdskgl5fvyfsKjmHHJedznfPH8+/N3Rt5beVheWUVdcdY3UiEksU3hE0toOx3gBbSg/w6HuFHQZ8OEnxRmaqZhwUkcMU3hF00bRhXDR1WPhbwyF7q+s4Z0J2q31js9PJ6Z9MSmIcGcnxbc5paHI0NvljVJCI9Az1eUdQYnwc//O5k/nRhSfQ0BigqraRz85fSkWLm5ZzJ+Vw/uShPPbedv7fyxuobQjwcekB4gz+8dXZBHBcce+SVtd1wCtrd3PxtOE9/BOJSG+llncEldfU85+PLufMX/2bmx/7gMaA49EbTuW8iUOYOnIAd148mYunDSclMZ6sfsnUNhxe9izg4PZ/riJ/9CCmjxrQ5trq8xaRlhTeEfTzF9bxr9W7qW0IsLKogpsf+4DJw/rzwPUzWHjLHK6dldd8bGpi2+6RbXsPAPCHa6aTmdr6j6J7Fm1ie+h9ERGFdwQt29Z6Dcod+2ooqQr/sM25E4YQf0TneG1DgM/fv5TymgbOmTCk1XvVdY38vSD8Az8i0veozzuCpo8ayLa9h+cwGT4glSEZKWGPLa6sJdwtyHc27+Xz9y8NO0Y8JVG/a0UkSOEdQT/89AmUH2xg8YY9jM/J4BeXnUh8XLB5vbKwnD/8ezNVtQ1cc+poHn5nW6tH5FsKF9wZKQlcNWNkNMsXER9ReEfQ4H7JPHj9jFb7/vjvzfzl7a3sralvHt+9dMs+0pLa9nl35O4rp7bbiheRvkfhHUErC8t5eMk24sy4ZuYoHlmyjWdW7Ap77NEe1DlrfBZvbiwD4MxxWXxy8tBIlysiPqbwjpAtpdVc9ecl1DUGh//988OdNLXXL0JwFfmzJ2Tz3pZ9JMRbq1kF4wyK9h9s7hN/Y1MZ9725hRvPPC6aP4KI+IjugEXIi6uKm4Mb6DC4D9lcUs0jN8zk3985m+Oz04FgcA/PTOHj0tbDAp/6QCNNROQwhXeEdKc/uqj8IDc/upzymnqKK4JDCgMOCsvbDi8c0l/93SJymMI7Qi6aNowZeQObt8fndDxJ1SGl1fXc/cpGDtS3vzJ8nME1MzXSREQO0zJoEeSc48PCcuLMWLFjPz99bm3Erp2cEMffvzqLk0YMiNg1RcQXtAxatJkZ00cNZNrIAdz7xsfHdK3UIx7IqWsM8MiS7cd0TYmAncth2QNQutHrSqSP02iTKHhu5U5KKo9tIqmDLSatOiSuo7lmJfre/i28+pPga4uDy+6DE6/wtCTpuzxreZvZNjNbZWYrzKx394d0wb4D9XxrwcqIXzc1MY7rZudF/LrSSU0N8OavD2+7ALzxK+/qkT7P65b3Oc65Mo9riJiGpgBfe+IDGrq5cEJCnNHYzhDDX152EpOHZR5LeXIsXACajvhrqvGgN7WIoD7viPrT4o95e/PeNvuP1t0xPqcfk4f15/rZeVx72qiwx9yxcLWmhPVSQjKcdFXrfTNv8qYWEbwNbwe8YmbLzSzs/wVmdpOZFZhZQWlpaQ+X13UvrCoOu/9oz+tsLKlmza5K7n97K8u27eerZ45pc0xlbSNPvF8YiTKlO5b+CVY+GXydlAGfvgdm3+ZtTdKneRnec5xz04FPAbeY2ZlHHuCcm++cy3fO5WdnZ7e9Qi9z6EGbY7F+dxUvr9kd9j0XdhJZibqafbDoxxAIzfZYXwXb3/a2JunzPAtv59yu0Pc9wD+BmV7VEikH6xuPflAnbN3bti+1f0oC18wM36UiUXagtG1/d7n+ChJveRLeZpZuZhmHXgOfBFZ7UUskZfVLDrs/6cglc7rohNwMXvnmWYwenH5M15FuyhoPOVNa75t8qTe1iIR4NdokB/inmR2q4XHn3Ese1RIxiQltfxcOy0xh1zF0p6QkxvHUf84mLcnrgUF9mBl8/h/w5q9g3xaYeCHM+LLXVUkf50nL2zm3xTk3NfQ12Tn3cy/qiLTzJua02h4xMJWzJxxbX/2FJw1TcPcG/XPhlOshOQPWPAMfPel1RdLHKRUi6LvzJhBwjjc3lnLCsP7cfsEJ3P/Wlm5fb/SgNN7eVMrMn7/KV84ayw2ntx2FIj2ktgIe/kzwOwRvWCb3h4kXeFuX9Fka5x1B89/cwhPv72BraDx2Vr8kivaHf5DDOtENvn1fDbsr69hTVcedz6/l1bUlkSxXumLrm4eD+5B1z3lTiwgK74hZvbOC3yzaSF1jAOfghY+KeXJZIQfq2i4mDEdfBi2c+9/ufitejtHAMH/1DNJfQuIdhXeEbCyparNvw+4qasNMMAWQ2I0RKIHwl5KeMHQKzPkGWGjh6JGnwqlf8bQk6dvU5x0hs8dmkZQQR32LpdDOnjAk7PJlBkzK7c/Kooo273XkszO0IIOn5v4MTrs52H2SPd7raqSPU8s7QoZmpvDAdfnkjx7IxKEZ/NfFk5k7KYcJORltjnXQpeCOjzN+8KmJXH7KiAhWLN2SkaPgll5BLe8IOmNcNmeMOzw0sKy6juOHZHS5hX2keZOH8pWzxh5reRIpB8pgyR+CT1lOvhROuNDriqQPUss7SgIBx+fve6/bq74fl5VOamI8Of2T2bC7kl+9tL5Vl4x4xDl45BJ4+x5Y/Q948vOw6h9eVyV9kFreEbR6ZwXPrtxFelI8owalsSHMTcyjOXN8Nj/9zCSOy+7HeXcv5uPSA5RQx+bFwWXVvjtvYqTLlq4oXgklq1rvW/G4VtSRHqfwjpCCbfu4ev7SdhdT6IxrZo7ktvPGsbKwgt++uomPS1vP3/3auj0Kb6+lDSZ4y7nFv3N675/xUmKPwjtCHn9/xzEFN8CzK3exoKCo3escP6TfMV1fImDASJh9K7z7++B2+hA449ve1iR9ksI7QlIT44/5Ggfqm9p9eCczNZHvqdXdO3zyLpj2BagohNFzICnN64qkD9INywi5btZoksPMKtgVHT22MyGnH6MGKyR6jSETYdxcBbd4RuEdIc+v2k3dMYwGSYo3Lp8+vN33l23bT2Vt+EftRaR9hVWFXP/S9Zz8yMlc/9L1FFbFxkIaCu8IWXSUSaNaLsiQnZHU5v36Jkd+3iAyUxPDnp+WFH/MLXuRvuiOd+5geclyGl0jy0uWc8c7d3hdUkQoDSLkuKz2V7kxYOEtc7jjwknceckUnvrqbNKS2vaR1zUGuOuSKWFXm//O+RNITjj2fnWRvmblnpUdbvuVblhGyHfnTWBdcSVbyg60ea9/aiKJCXHN83Hf8cxqauqbWh+TksAFJ+aS1S+Z/LyBvLGhlIqDDaQnx3P68dnkdfDLQUTaN3XIVJaXLG+1HQvMdWduUg/k5+e7goICr8vokHOOiXe81G7f96ljBvGLy05k3u/eavO05M8unsx1s/J6oEqRvqWwqpA73rmDlXtWMnXIVO6ccycjM3w1yVvYsQwK7wj76bNreOjdbe2+PyQjiT1V9a32GbDkB+cyNDM1usWJiB+FDW/1eUfYjz59At+aO47B6W1vSgJtghuCz+qd+avF/L+X10e5OhGJFQrvCEuIj+PWc8bx+2tO7tJ59U0B/vjvj1m+fV+UKhORWKIblhHU0BTgxwvX8NTyIvqnJnLacYNYuqVrYbxhdzWnjB4UpQpFJFao5R1Bj7+3gyfe30F9U4Cy6jqWbdvP0zfPYs7xgzt1fpzBk8t28LPn1lBRowdyer2KnfDsbfDQhfDen7u3MKlIN6nlHUEf7tjfarsp4HjgrW2sLa486rlJ8UZ9k2NlUQUriyp44v0dfOeTE/jUibkMH6Abmb2Oc/DoZVAauk+x7S0INMGsm72tS/oMtbwjaOaYti3sF1YVs//A0VvR9U2tW221DQHuemEdc375OjN//irlNW1vdIqHStcfDu5D1j7jSSnSNym8I+jqGSMZNiClw2O6s2r8nqo6Lr/33e6WJdHQLwfik1vvGzDam1qkT1J4R9Da4kp2ldd2eMy8yTnduvbHpQcoq67r1rkSBWmDglPDxoeGhA7Mg3N+4GlJ0reozzuCnly246jHZPdP4XMzR/LE+12f2ay0qo6sfslHP1B6xqk3wZTLoKIIhp4IcZp7RnqOwjtCtpZV89elRw/vF1YWs68b/dfHZ6UzcWhGd0qTaErPCn6J9DCFd4Tc/vTqTh1XUtW9ro+8rDScA+t6l7mIxCD1eUfIh4X7j37QMXh1fSmX3ftOVD9DRPxDLe8IOXKWwGhYUVgR9c/ok8o2wcongmO3Z90SvhukqQEqd0HmSIg7os1zsBya6qHfkB4pVwQU3hGxt7qOY1w4XryyZx38+SxoCnVnvfs/8MWXYOSMw8dsWQz/uAFqyiAxFWZ//fDIkld/FlxJPtAAJ3wGLn8AEnRTWaLPs24TM5tnZhvMbLOZfd+rOiKhf2oiWf3CzyIYSaMGabHbiPvgr4eDGyDQCM989fC2c7DwtmBwAzQchDd+CUv+F4qWw9u/CQY3wLrn4INHeq526dM8CW8ziwf+CHwKmAR8zswmeVFLJCTGx/HzS08Mu7RZJP3gUxOjev0+KT7MmqGVuw6/bqiBijCjiFb9ve0TlgClGyJXm0gHvGp5zwQ2O+e2OOfqgb8BF3tUS0ScP3koy380l2dvncOfvjCdG8/IY/Sg8E9bDsvs+CnMcJIT4pg7qXsP+EgHZnz58IM2h0y44PDrpHQYeVrb8/oPg+PObvuU5fh5ES9RJByvwns40PIplaLQvlbM7CYzKzCzgtLS0h4rrrtSk+I5acQA5k3J5Yefnswb3z2P3109jfRQizwpIY4fXnAC73z/XK45dVTYhYYT4ozRg1OJb/GmAb/77DQS4jU4KOIGjISbl8DIU4OBfMr1cOE9rY+56hHInXZ4Oz0bzrkdMofD5/8OeWcE37/oDzDuEz1YvPRlniyDZmZXAuc7574c2r4WmOmcu629c/yyDFp7Kg42kJwQR0ri4a6VPZW11DUGKNxfw98LiuifksANpx/HqMFpNDQFeHFVMVtLD/CJSTlMGZ7pYfUCBKeA3b8VhudDYtf/ehLpprBPd3g12qQIaLkC6AhgVzvHxoTM1LZ9q0P6BwNg5KA0Zo9tPTwtMT6Oi6e1+WNEvJQ5PPgl0gt49Xf4MmCcmY0xsyTgauBZj2oREfEdT1rezrlGM7sVeBmIBx50zq3xohYRET/y7CEd59yLwItefb6IiJ9p+IKIiA8pvEVEfEjhLSLiQwpvEREfUniLiPiQwltExIcU3iIiPqTwFhHxIU8mpuoOMysFtntdR4RlAWVeFyFHpX8nf4jVf6cy51ybuYZ9E96xyMwKnHP5XtchHdO/kz/0tX8ndZuIiPiQwltExIcU3t6a73UB0in6d/KHPvXvpD5vEREfUstbRMSHFN4iIj6k8PaAmc0zsw1mttnMvu91PRKemT1oZnvMbLXXtUj7zCzFzN43s5VmtsbMfuZ1TT1Bfd49zMzigY3AXIILMS8DPuecW+tpYdKGmZ0JVAOPOOemeF2PhGdmBqQ756rNLBF4G/i6c26px6VFlVrePW8msNk5t8U5Vw/8DbjY45okDOfcm8A+r+uQjrmg6tBmYugr5lulCu+eNxwobLFdFNonIt1kZvFmtgLYAyxyzr3ncUlRp/DueRZmX8y3EkSiyTnX5JybBowAZppZzHdzKbx7XhEwssX2CGCXR7WIxBTnXDmwGGgzkVOsUXj3vGXAODMbY2ZJwNXAsx7XJOJbZpZtZgNCr1OBTwDrPS2qByi8e5hzrhG4FXgZWAcscM6t8bYqCcfMngCWABPMrMjMbvC6JgkrF/i3mX1EsHG0yDn3vMc1RZ2GCoqI+JBa3iIiPqTwFhHxIYW3iIgPKbxFRHxI4S0i4kMKb+kTzGyEmS00s01m9rGZ/S40zl7ElxTeEvNCs849DTzjnBsHjAf6AT/vgc9OiPZnSN+k8Ja+4Fyg1jn3FwjOgwF8E/iSmb1uZicBmNmHZvbj0Os7zezLZna2mS02s3+Y2Xozeyz0ywAzO8XM3jCz5Wb2spnlhvYvNrP/a2ZvAF/34geW2Kfwlr5gMrC85Q7nXCWwg+A8GGeYWX+gEZgTOuR04K3Q65OBbwCTgOOAOaF5o38PXOGcOwV4kNYt+QHOubOcc3dH4wcS0Z900hcY4WduNOAN4GZgK/ACMNfM0oA859yGUGv6fedcEUBo2tE8oByYAiwKNcTjgeIW134yGj+IyCEKb+kL1gCXt9wRammPBD4E8oEtwCIgC7iR1i31uhavmwj+f2PAGufcrHY+80BEKhdph7pNpC94DUgzs/+A5qXo7gYeCnWfFAJXAUsJdpV8h8NdJu3ZAGSb2azQNRPNbHKU6hdpQ+EtMc8FZ1+7FLjSzDYRXEO0Frg9dMhbQIlzrib0egRHCe/QEnZXAP9tZiuBFcDsqPwAImFoVkERER9Sy1tExIcU3iIiPqTwFhHxIYW3iIgPKbxFRHxI4S0i4kMKbxERH/r/h1YQKeKWy9oAAAAASUVORK5CYII=\n",
      "text/plain": [
       "<Figure size 360x360 with 1 Axes>"
      ]
     },
     "metadata": {
      "needs_background": "light"
     },
     "output_type": "display_data"
    },
    {
     "data": {
      "text/plain": [
       "<Figure size 720x720 with 0 Axes>"
      ]
     },
     "metadata": {},
     "output_type": "display_data"
    }
   ],
   "source": [
    "# selling price vs owner\n",
    "sns.catplot(data = car_data_df,x='Owner',y='Selling_Price')\n",
    "plt.figure(figsize=(10,10))\n",
    "plt.show()"
   ]
  },
  {
   "cell_type": "code",
   "execution_count": 20,
   "metadata": {},
   "outputs": [
    {
     "data": {
      "text/plain": [
       "<AxesSubplot:xlabel='Year', ylabel='Selling_Price'>"
      ]
     },
     "execution_count": 20,
     "metadata": {},
     "output_type": "execute_result"
    },
    {
     "data": {
      "image/png": "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\n",
      "text/plain": [
       "<Figure size 1080x504 with 1 Axes>"
      ]
     },
     "metadata": {
      "needs_background": "light"
     },
     "output_type": "display_data"
    }
   ],
   "source": [
    "#year\n",
    "plt.figure(figsize=(15,7))\n",
    "sns.boxplot(data = car_data_df,x='Year',y='Selling_Price')"
   ]
  },
  {
   "cell_type": "code",
   "execution_count": null,
   "metadata": {},
   "outputs": [],
   "source": []
  }
 ],
 "metadata": {
  "kernelspec": {
   "display_name": "mlenv",
   "language": "python",
   "name": "mlenv"
  },
  "language_info": {
   "codemirror_mode": {
    "name": "ipython",
    "version": 3
   },
   "file_extension": ".py",
   "mimetype": "text/x-python",
   "name": "python",
   "nbconvert_exporter": "python",
   "pygments_lexer": "ipython3",
   "version": "3.7.9"
  }
 },
 "nbformat": 4,
 "nbformat_minor": 4
}