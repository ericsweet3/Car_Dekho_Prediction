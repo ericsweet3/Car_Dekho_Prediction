{
 "metadata": {
  "language_info": {
   "codemirror_mode": {
    "name": "ipython",
    "version": 3
   },
   "file_extension": ".py",
   "mimetype": "text/x-python",
   "name": "python",
   "nbconvert_exporter": "python",
   "pygments_lexer": "ipython3",
   "version": "3.7.9"
  },
  "orig_nbformat": 2,
  "kernelspec": {
   "name": "python379jvsc74a57bd01323ab88a6f9459fb8f40aaa3e9be02fdd1e64e02e1c290cdd414cfd6c971c86",
   "display_name": "Python 3.7.9 64-bit ('PythonData2': conda)"
  }
 },
 "nbformat": 4,
 "nbformat_minor": 2,
 "cells": [
  {
   "cell_type": "code",
   "execution_count": 1,
   "metadata": {},
   "outputs": [],
   "source": [
    "import pandas as pd\n",
    "import numpy as np\n",
    "import matplotlib.pyplot as plt"
   ]
  },
  {
   "cell_type": "code",
   "execution_count": 2,
   "metadata": {},
   "outputs": [],
   "source": [
    "df = pd.read_csv('Resources/Car details v3.csv')"
   ]
  },
  {
   "cell_type": "code",
   "execution_count": 3,
   "metadata": {},
   "outputs": [
    {
     "output_type": "execute_result",
     "data": {
      "text/plain": [
       "                           name  year  selling_price  km_driven    fuel  \\\n",
       "0        Maruti Swift Dzire VDI  2014         450000     145500  Diesel   \n",
       "1  Skoda Rapid 1.5 TDI Ambition  2014         370000     120000  Diesel   \n",
       "2      Honda City 2017-2020 EXi  2006         158000     140000  Petrol   \n",
       "3     Hyundai i20 Sportz Diesel  2010         225000     127000  Diesel   \n",
       "4        Maruti Swift VXI BSIII  2007         130000     120000  Petrol   \n",
       "\n",
       "  seller_type transmission         owner     mileage   engine   max_power  \\\n",
       "0  Individual       Manual   First Owner   23.4 kmpl  1248 CC      74 bhp   \n",
       "1  Individual       Manual  Second Owner  21.14 kmpl  1498 CC  103.52 bhp   \n",
       "2  Individual       Manual   Third Owner   17.7 kmpl  1497 CC      78 bhp   \n",
       "3  Individual       Manual   First Owner   23.0 kmpl  1396 CC      90 bhp   \n",
       "4  Individual       Manual   First Owner   16.1 kmpl  1298 CC    88.2 bhp   \n",
       "\n",
       "                     torque  seats  \n",
       "0            190Nm@ 2000rpm    5.0  \n",
       "1       250Nm@ 1500-2500rpm    5.0  \n",
       "2     12.7@ 2,700(kgm@ rpm)    5.0  \n",
       "3  22.4 kgm at 1750-2750rpm    5.0  \n",
       "4     11.5@ 4,500(kgm@ rpm)    5.0  "
      ],
      "text/html": "<div>\n<style scoped>\n    .dataframe tbody tr th:only-of-type {\n        vertical-align: middle;\n    }\n\n    .dataframe tbody tr th {\n        vertical-align: top;\n    }\n\n    .dataframe thead th {\n        text-align: right;\n    }\n</style>\n<table border=\"1\" class=\"dataframe\">\n  <thead>\n    <tr style=\"text-align: right;\">\n      <th></th>\n      <th>name</th>\n      <th>year</th>\n      <th>selling_price</th>\n      <th>km_driven</th>\n      <th>fuel</th>\n      <th>seller_type</th>\n      <th>transmission</th>\n      <th>owner</th>\n      <th>mileage</th>\n      <th>engine</th>\n      <th>max_power</th>\n      <th>torque</th>\n      <th>seats</th>\n    </tr>\n  </thead>\n  <tbody>\n    <tr>\n      <th>0</th>\n      <td>Maruti Swift Dzire VDI</td>\n      <td>2014</td>\n      <td>450000</td>\n      <td>145500</td>\n      <td>Diesel</td>\n      <td>Individual</td>\n      <td>Manual</td>\n      <td>First Owner</td>\n      <td>23.4 kmpl</td>\n      <td>1248 CC</td>\n      <td>74 bhp</td>\n      <td>190Nm@ 2000rpm</td>\n      <td>5.0</td>\n    </tr>\n    <tr>\n      <th>1</th>\n      <td>Skoda Rapid 1.5 TDI Ambition</td>\n      <td>2014</td>\n      <td>370000</td>\n      <td>120000</td>\n      <td>Diesel</td>\n      <td>Individual</td>\n      <td>Manual</td>\n      <td>Second Owner</td>\n      <td>21.14 kmpl</td>\n      <td>1498 CC</td>\n      <td>103.52 bhp</td>\n      <td>250Nm@ 1500-2500rpm</td>\n      <td>5.0</td>\n    </tr>\n    <tr>\n      <th>2</th>\n      <td>Honda City 2017-2020 EXi</td>\n      <td>2006</td>\n      <td>158000</td>\n      <td>140000</td>\n      <td>Petrol</td>\n      <td>Individual</td>\n      <td>Manual</td>\n      <td>Third Owner</td>\n      <td>17.7 kmpl</td>\n      <td>1497 CC</td>\n      <td>78 bhp</td>\n      <td>12.7@ 2,700(kgm@ rpm)</td>\n      <td>5.0</td>\n    </tr>\n    <tr>\n      <th>3</th>\n      <td>Hyundai i20 Sportz Diesel</td>\n      <td>2010</td>\n      <td>225000</td>\n      <td>127000</td>\n      <td>Diesel</td>\n      <td>Individual</td>\n      <td>Manual</td>\n      <td>First Owner</td>\n      <td>23.0 kmpl</td>\n      <td>1396 CC</td>\n      <td>90 bhp</td>\n      <td>22.4 kgm at 1750-2750rpm</td>\n      <td>5.0</td>\n    </tr>\n    <tr>\n      <th>4</th>\n      <td>Maruti Swift VXI BSIII</td>\n      <td>2007</td>\n      <td>130000</td>\n      <td>120000</td>\n      <td>Petrol</td>\n      <td>Individual</td>\n      <td>Manual</td>\n      <td>First Owner</td>\n      <td>16.1 kmpl</td>\n      <td>1298 CC</td>\n      <td>88.2 bhp</td>\n      <td>11.5@ 4,500(kgm@ rpm)</td>\n      <td>5.0</td>\n    </tr>\n  </tbody>\n</table>\n</div>"
     },
     "metadata": {},
     "execution_count": 3
    }
   ],
   "source": [
    "df.head()"
   ]
  },
  {
   "cell_type": "code",
   "execution_count": 6,
   "metadata": {},
   "outputs": [
    {
     "output_type": "execute_result",
     "data": {
      "text/plain": [
       "name              object\n",
       "year               int64\n",
       "selling_price      int64\n",
       "km_driven          int64\n",
       "fuel              object\n",
       "seller_type       object\n",
       "transmission      object\n",
       "owner             object\n",
       "mileage           object\n",
       "engine            object\n",
       "max_power         object\n",
       "torque            object\n",
       "seats            float64\n",
       "dtype: object"
      ]
     },
     "metadata": {},
     "execution_count": 6
    }
   ],
   "source": [
    "df.dtypes"
   ]
  },
  {
   "cell_type": "code",
   "execution_count": 10,
   "metadata": {},
   "outputs": [
    {
     "output_type": "execute_result",
     "data": {
      "text/plain": [
       "name             8128\n",
       "year             8128\n",
       "selling_price    8128\n",
       "km_driven        8128\n",
       "fuel             8128\n",
       "seller_type      8128\n",
       "transmission     8128\n",
       "owner            8128\n",
       "mileage          7907\n",
       "engine           7907\n",
       "max_power        7913\n",
       "torque           7906\n",
       "seats            7907\n",
       "dtype: int64"
      ]
     },
     "metadata": {},
     "execution_count": 10
    }
   ],
   "source": [
    "df.count()"
   ]
  },
  {
   "cell_type": "code",
   "execution_count": 4,
   "metadata": {},
   "outputs": [],
   "source": [
    "# TODO Standardize mileage, engine, max_power formatting\n",
    "# TODO Remove text from mileage, enging, max_power\n",
    "# TODO Map owner to integer count of prev owner (\"First Owner\" = 0, etc)\n",
    "# TODO Separate torque into three columns"
   ]
  },
  {
   "cell_type": "code",
   "execution_count": 7,
   "metadata": {},
   "outputs": [
    {
     "output_type": "execute_result",
     "data": {
      "text/plain": [
       "name             False\n",
       "year             False\n",
       "selling_price    False\n",
       "km_driven        False\n",
       "fuel             False\n",
       "seller_type      False\n",
       "transmission     False\n",
       "owner            False\n",
       "mileage           True\n",
       "engine            True\n",
       "max_power         True\n",
       "torque            True\n",
       "seats             True\n",
       "dtype: bool"
      ]
     },
     "metadata": {},
     "execution_count": 7
    }
   ],
   "source": [
    "df.isnull().any()"
   ]
  },
  {
   "cell_type": "code",
   "execution_count": 9,
   "metadata": {},
   "outputs": [
    {
     "output_type": "execute_result",
     "data": {
      "text/plain": [
       "name               0\n",
       "year               0\n",
       "selling_price      0\n",
       "km_driven          0\n",
       "fuel               0\n",
       "seller_type        0\n",
       "transmission       0\n",
       "owner              0\n",
       "mileage          221\n",
       "engine           221\n",
       "max_power        215\n",
       "torque           222\n",
       "seats            221\n",
       "dtype: int64"
      ]
     },
     "metadata": {},
     "execution_count": 9
    }
   ],
   "source": [
    "df.isnull().sum()"
   ]
  },
  {
   "cell_type": "code",
   "execution_count": 13,
   "metadata": {},
   "outputs": [
    {
     "output_type": "execute_result",
     "data": {
      "text/plain": [
       "name             0\n",
       "year             0\n",
       "selling_price    0\n",
       "km_driven        0\n",
       "fuel             0\n",
       "seller_type      0\n",
       "transmission     0\n",
       "owner            0\n",
       "mileage          0\n",
       "engine           0\n",
       "max_power        0\n",
       "torque           0\n",
       "seats            0\n",
       "dtype: int64"
      ]
     },
     "metadata": {},
     "execution_count": 13
    }
   ],
   "source": [
    "cleandf = df.dropna()\n",
    "cleandf.isnull().sum()"
   ]
  },
  {
   "cell_type": "code",
   "execution_count": 31,
   "metadata": {},
   "outputs": [
    {
     "output_type": "stream",
     "name": "stdout",
     "text": [
      "17.3 km/kg\n33.44 km/kg\n26.2 km/kg\n26.6 km/kg\n20.88 km/kg\n30.46 km/kg\n26.2 km/kg\n21.94 km/kg\n21.94 km/kg\n21.94 km/kg\n26.2 km/kg\n17.3 km/kg\n13.45 km/kg\n17.3 km/kg\n17.3 km/kg\n32.52 km/kg\n26.6 km/kg\n13.45 km/kg\n26.6 km/kg\n26.2 km/kg\n21.94 km/kg\n26.6 km/kg\n26.6 km/kg\n26.2 km/kg\n26.2 km/kg\n11.88 km/kg\n26.2 km/kg\n21.94 km/kg\n26.3 km/kg\n23.7 km/kg\n26.6 km/kg\n13.45 km/kg\n19.2 km/kg\n26.2 km/kg\n26.6 km/kg\n17.8 km/kg\n21.94 km/kg\n10.9 km/kg\n26.2 km/kg\n13.45 km/kg\n17.3 km/kg\n19.2 km/kg\n21.94 km/kg\n26.6 km/kg\n33.44 km/kg\n26.6 km/kg\n26.6 km/kg\n30.46 km/kg\n21.1 km/kg\n19.2 km/kg\n26.6 km/kg\n21.94 km/kg\n21.94 km/kg\n26.3 km/kg\n21.94 km/kg\n21.94 km/kg\n13.2 km/kg\n21.4 km/kg\n16.6 km/kg\n16.0 km/kg\n26.2 km/kg\n13.2 km/kg\n21.94 km/kg\n17.3 km/kg\n22.8 km/kg\n19.2 km/kg\n21.94 km/kg\n32.26 km/kg\n21.94 km/kg\n13.2 km/kg\n33.0 km/kg\n10.9 km/kg\n19.0 km/kg\n26.2 km/kg\n26.6 km/kg\n13.45 km/kg\n21.94 km/kg\n13.2 km/kg\n14.4 km/kg\n26.6 km/kg\n13.45 km/kg\n26.83 km/kg\n26.83 km/kg\n33.44 km/kg\n13.2 km/kg\n21.94 km/kg\n15.1 km/kg\nTotal records not containing 'kmpl':  87\n"
     ]
    }
   ],
   "source": [
    "totalNotKmpl = 0\n",
    "for record in cleandf[\"mileage\"]:\n",
    "    if \"kmpl\" not in record:\n",
    "        print(record)\n",
    "        totalNotKmpl = totalNotKmpl + 1\n",
    "\n",
    "print(\"Total records not containing \\'kmpl\\': \", totalNotKmpl)"
   ]
  },
  {
   "cell_type": "code",
   "execution_count": 37,
   "metadata": {},
   "outputs": [],
   "source": [
    "cleandf = cleandf[cleandf[\"mileage\"].str.contains(\"kmpl\")]"
   ]
  },
  {
   "cell_type": "code",
   "execution_count": 38,
   "metadata": {},
   "outputs": [
    {
     "output_type": "execute_result",
     "data": {
      "text/plain": [
       "name             7819\n",
       "year             7819\n",
       "selling_price    7819\n",
       "km_driven        7819\n",
       "fuel             7819\n",
       "seller_type      7819\n",
       "transmission     7819\n",
       "owner            7819\n",
       "mileage          7819\n",
       "engine           7819\n",
       "max_power        7819\n",
       "torque           7819\n",
       "seats            7819\n",
       "dtype: int64"
      ]
     },
     "metadata": {},
     "execution_count": 38
    }
   ],
   "source": [
    "cleandf.count()"
   ]
  },
  {
   "cell_type": "code",
   "execution_count": 40,
   "metadata": {},
   "outputs": [],
   "source": [
    "cleandf[\"seats\"] = cleandf[\"seats\"].astype(int)"
   ]
  },
  {
   "cell_type": "code",
   "execution_count": 42,
   "metadata": {},
   "outputs": [
    {
     "output_type": "execute_result",
     "data": {
      "text/plain": [
       "name             object\n",
       "year              int64\n",
       "selling_price     int64\n",
       "km_driven         int64\n",
       "fuel             object\n",
       "seller_type      object\n",
       "transmission     object\n",
       "owner            object\n",
       "mileage          object\n",
       "engine           object\n",
       "max_power        object\n",
       "torque           object\n",
       "seats             int32\n",
       "dtype: object"
      ]
     },
     "metadata": {},
     "execution_count": 42
    }
   ],
   "source": [
    "cleandf.dtypes"
   ]
  },
  {
   "cell_type": "code",
   "execution_count": 43,
   "metadata": {},
   "outputs": [
    {
     "output_type": "execute_result",
     "data": {
      "text/plain": [
       "name             False\n",
       "year             False\n",
       "selling_price    False\n",
       "km_driven        False\n",
       "fuel             False\n",
       "seller_type      False\n",
       "transmission     False\n",
       "owner            False\n",
       "mileage          False\n",
       "engine           False\n",
       "max_power        False\n",
       "torque           False\n",
       "seats            False\n",
       "dtype: bool"
      ]
     },
     "metadata": {},
     "execution_count": 43
    }
   ],
   "source": [
    "cleandf.isnull().any()"
   ]
  },
  {
   "cell_type": "code",
   "execution_count": null,
   "metadata": {},
   "outputs": [],
   "source": []
  }
 ]
}